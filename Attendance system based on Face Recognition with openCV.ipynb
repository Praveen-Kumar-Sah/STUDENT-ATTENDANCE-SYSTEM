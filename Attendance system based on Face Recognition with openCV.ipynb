{
 "cells": [
  {
   "cell_type": "code",
   "execution_count": 1,
   "metadata": {},
   "outputs": [],
   "source": [
    "# import the libraries\n",
    "import cv2 as cv\n",
    "import face_recognition as fr\n",
    "import numpy as np\n",
    "import os\n",
    "from datetime import datetime\n",
    "import pyodbc\n",
    "import csv"
   ]
  },
  {
   "cell_type": "code",
   "execution_count": 2,
   "metadata": {},
   "outputs": [
    {
     "name": "stdout",
     "output_type": "stream",
     "text": [
      "['AKASH 190301120053.jpg', 'BABLU 190301120090.jpg', 'HITISH 190301120041.jpg', 'PRAVEEN 190301120043.jpg', 'RAKESH 190301120079.jpg', 'RAUSHAN 190301120044.jpg', 'UMASHANKAR 190301120039.jpg']\n"
     ]
    }
   ],
   "source": [
    "path = 'DATASET'\n",
    "images = []\n",
    "personName = []\n",
    "myList = os.listdir(path)\n",
    "print(myList)"
   ]
  },
  {
   "cell_type": "code",
   "execution_count": 3,
   "metadata": {},
   "outputs": [
    {
     "name": "stdout",
     "output_type": "stream",
     "text": [
      "['AKASH 190301120053', 'BABLU 190301120090', 'HITISH 190301120041', 'PRAVEEN 190301120043', 'RAKESH 190301120079', 'RAUSHAN 190301120044', 'UMASHANKAR 190301120039']\n"
     ]
    }
   ],
   "source": [
    "for cu_img in myList:\n",
    "    current_Img = cv.imread(f'{path}/{cu_img}')\n",
    "    images.append(current_Img)\n",
    "    personName.append(os.path.splitext(cu_img)[0])\n",
    "print(personName)"
   ]
  },
  {
   "cell_type": "code",
   "execution_count": 4,
   "metadata": {
    "scrolled": false
   },
   "outputs": [
    {
     "name": "stdout",
     "output_type": "stream",
     "text": [
      "All Encoding Coplete!!!!\n"
     ]
    }
   ],
   "source": [
    "def faceEncodings(images):\n",
    "    encodeList = []\n",
    "    for img in images:\n",
    "        img = cv.cvtColor(img,cv.COLOR_BGR2RGB)\n",
    "        encode  = fr.face_encodings(img)[0]\n",
    "        encodeList.append(encode)\n",
    "    return encodeList\n",
    "\n",
    "\n",
    "# print(faceEncodings(images))\n",
    "encodeListKnown = faceEncodings(images)\n",
    "print('All Encoding Coplete!!!!')\n",
    "\n",
    "def attendance(name):\n",
    "    with open('Attendance.csv','r+') as f:\n",
    "        myDateList = f.readlines()\n",
    "        nameList = []\n",
    "        for line in myDateList:\n",
    "            entry = line.split(',')\n",
    "            nameList.append(entry[0])\n",
    "        \n",
    "        if name not in nameList:\n",
    "            time_now = datetime.now()\n",
    "            tStr = time_now.strftime('%H:%M:%S')\n",
    "            dStr = time_now.strftime('%d/%m/%Y')\n",
    "            f.writelines(f'\\n{name},{tStr},{dStr}')\n",
    "            "
   ]
  },
  {
   "cell_type": "code",
   "execution_count": 6,
   "metadata": {},
   "outputs": [],
   "source": [
    "cap = cv.VideoCapture(0)\n",
    "\n",
    "while True:\n",
    "    ret,frame = cap.read()\n",
    "    faces = cv.resize(frame,(0,0),None,0.25,0.25)\n",
    "    faces = cv.cvtColor(faces,cv.COLOR_BGR2RGB)\n",
    "    \n",
    "    facesCurrentFrame = fr.face_locations(faces)\n",
    "    encodesCurrentFrame = fr.face_encodings(faces,facesCurrentFrame)\n",
    "    \n",
    "    for encodeFace, faceLoc in zip(encodesCurrentFrame,facesCurrentFrame):\n",
    "        matches = fr.compare_faces(encodeListKnown,encodeFace)\n",
    "        faceDis = fr.face_distance(encodeListKnown,encodeFace)\n",
    "        \n",
    "        matchIndex = np.argmin(faceDis)\n",
    "        \n",
    "        if matches[matchIndex]:\n",
    "            name = personName[matchIndex].upper()\n",
    "            #print(name)\n",
    "            y1,x2,y2,x1 = faceLoc\n",
    "            y1,x2,y2,x1 = y1*4,x2*4,y2*4,x1*4\n",
    "            cv.rectangle(frame, (x1,y1),(x2,y2),(0,255,0),2)\n",
    "            cv.rectangle(frame,(x1,y2-35),(x2,y2),(0,255,0),cv.FILLED)\n",
    "            cv.putText(frame,name,(x1 + 8,y2 - 6),cv.FONT_HERSHEY_COMPLEX,1,(0,0,255),2)\n",
    "            attendance(name)\n",
    "            \n",
    "    cv.imshow(\"Camera\",frame)\n",
    "    if cv.waitKey(1) == 13:\n",
    "        break\n",
    "        \n",
    "cap.release()\n",
    "cv.destroyAllWindows()"
   ]
  },
  {
   "cell_type": "code",
   "execution_count": 12,
   "metadata": {},
   "outputs": [
    {
     "name": "stdout",
     "output_type": "stream",
     "text": [
      "check=== True\n"
     ]
    }
   ],
   "source": [
    "# capture through mobile\n",
    "camera = 'http://10.40.129.110:8080/video'\n",
    "\n",
    "cap = cv.VideoCapture(0)\n",
    "cap.open(camera)\n",
    "print('check===',cap.isOpened())\n",
    "\n",
    "\n",
    "while True:\n",
    "    ret,frame = cap.read()\n",
    "    faces = cv.resize(frame,(20,30),None,0.25,0.25)\n",
    "    faces = cv.cvtColor(faces,cv.COLOR_BGR2RGB)\n",
    "    \n",
    "    facesCurrentFrame = fr.face_locations(faces)\n",
    "    encodesCurrentFrame = fr.face_encodings(faces,facesCurrentFrame)\n",
    "    \n",
    "    for encodeFace, faceLoc in zip(encodesCurrentFrame,facesCurrentFrame):\n",
    "        matches = fr.compare_faces(encodeListKnown,encodeFace)\n",
    "        faceDis = fr.face_distance(encodeListKnown,encodeFace)\n",
    "        \n",
    "        matchIndex = np.argmin(faceDis)\n",
    "        \n",
    "        if matches[matchIndex]:\n",
    "            name = personName[matchIndex].upper()\n",
    "            #print(name)\n",
    "            y1,x2,y2,x1 = faceLoc\n",
    "            y1,x2,y2,x1 = y1*4,x2*4,y2*4,x1*4\n",
    "            cv.rectangle(frame, (x1,y1),(x2,y2),(0,255,0),2)\n",
    "            cv.rectangle(frame,(x1,y2-35),(x2,y2),(0,255,0),cv.FILLED)\n",
    "            cv.putText(frame,name,(x1 + 8,y2 - 6),cv.FONT_HERSHEY_COMPLEX,1,(0,0,255),2)\n",
    "            attendance(name)\n",
    "            \n",
    "    cv.imshow(\"Camera\",frame)\n",
    "    if cv.waitKey(1) == 13:\n",
    "        break\n",
    "        \n",
    "cap.release()\n",
    "cv.destroyAllWindows()"
   ]
  },
  {
   "cell_type": "code",
   "execution_count": null,
   "metadata": {},
   "outputs": [],
   "source": []
  }
 ],
 "metadata": {
  "kernelspec": {
   "display_name": "Python 3 (ipykernel)",
   "language": "python",
   "name": "python3"
  },
  "language_info": {
   "codemirror_mode": {
    "name": "ipython",
    "version": 3
   },
   "file_extension": ".py",
   "mimetype": "text/x-python",
   "name": "python",
   "nbconvert_exporter": "python",
   "pygments_lexer": "ipython3",
   "version": "3.9.7"
  }
 },
 "nbformat": 4,
 "nbformat_minor": 4
}
